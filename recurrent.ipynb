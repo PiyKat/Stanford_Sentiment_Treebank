{
 "cells": [
  {
   "cell_type": "code",
   "execution_count": 5,
   "metadata": {
    "collapsed": true
   },
   "outputs": [
    {
     "name": "stdout",
     "output_type": "stream",
     "text": [
      "/home/piyush/PycharmProjects/Kaggle_Competitions/Sentiment_Analysis_Challenge\n"
     ]
    }
   ],
   "source": [
    "import numpy as np\n",
    "import tensorflow as tf\n",
    "import pandas as pd\n",
    "import dill as pickle\n",
    "\n",
    "from collections import defaultdict\n",
    "\n",
    "import os\n",
    "\n",
    "print(os.getcwd())"
   ]
  },
  {
   "cell_type": "code",
   "execution_count": 6,
   "metadata": {},
   "outputs": [],
   "source": [
    "class Word2Vec():\n",
    "\n",
    "    def __init__(self):\n",
    "\n",
    "        self.word2vec_dim = 300\n",
    "        default_arr = lambda: np.zeros(shape=[1, self.word2vec_dim])\n",
    "\n",
    "        self.word_to_vector = defaultdict(default_arr)\n",
    "        self.create_flag = 0\n",
    "\n",
    "\n",
    "    def create_glove_vectors(self, path):\n",
    "\n",
    "        if self.create_flag == 0:\n",
    "\n",
    "            with open(path, \"r\") as f:\n",
    "\n",
    "                for line in f.readlines():\n",
    "                    newline_split = line.split()\n",
    "\n",
    "                    self.word_to_vector[newline_split[0]] = np.array(list(map(np.float32, newline_split[1:])))\n",
    "\n",
    "                    print(\"Word vector for \" + str(newline_split[0] + \" created\"))\n",
    "\n",
    "            print(\"Word vector dictionary created !!!!!!!\")\n",
    "\n",
    "            with open(\"w2v_dic.pkl\",\"wb\") as w:\n",
    "\n",
    "                pickle.dump(self.word_to_vector,w)\n",
    "\n",
    "            self.create_flag = 1\n",
    "\n",
    "        else:\n",
    "\n",
    "            print(\"Word vectors already created !!!!!\")\n",
    "            self.load_word2vec()\n",
    "\n",
    "    def load_word2vec(self):\n",
    "\n",
    "        if os.path.exists(\"w2v_dic.pkl\"):\n",
    "\n",
    "            with open(\"w2v_dic.pkl\",\"rb\") as f:\n",
    "\n",
    "                self.word_to_vector = pickle.load(f)\n",
    "\n",
    "        else:\n",
    "\n",
    "            print(\"Word Vector not created. Please call create_word2vec first.\")\n",
    "\n",
    "\n",
    "    def get_word2vec(self, word):\n",
    "\n",
    "        return np.reshape(self.word_to_vector[word],newshape=[1,self.word2vec_dim])\n",
    "\n",
    "\n",
    "    def check_word(self, word):\n",
    "\n",
    "        if word in self.word_to_vector.keys():\n",
    "\n",
    "            return True\n",
    "\n",
    "        else:\n",
    "\n",
    "            return False\n",
    "\n",
    "    def get_word2vec_seq(self, word_seq):\n",
    "\n",
    "        #### We will do padding using tf.pad #####\n",
    "\n",
    "        word_sequence = word_seq.split()\n",
    "        \n",
    "        sentence_arr = []\n",
    "\n",
    "        for word in word_sequence:\n",
    "\n",
    "            if word_sequence.index(word) == 0:\n",
    "\n",
    "                sentence_arr = self.get_word2vec(word)\n",
    "\n",
    "            else:\n",
    "\n",
    "                word_arr = self.get_word2vec(word)\n",
    "                sentence_arr = np.append(sentence_arr, word_arr, axis=0)\n",
    "\n",
    "        return sentence_arr"
   ]
  },
  {
   "cell_type": "code",
   "execution_count": 22,
   "metadata": {},
   "outputs": [
    {
     "name": "stdout",
     "output_type": "stream",
     "text": [
      "['the', 'of']\n(2, 300)\n"
     ]
    }
   ],
   "source": [
    "class SentimentText():\n",
    "    \n",
    "    "
   ]
  },
  {
   "cell_type": "code",
   "execution_count": null,
   "metadata": {},
   "outputs": [],
   "source": []
  }
 ],
 "metadata": {
  "kernelspec": {
   "display_name": "Python 2",
   "language": "python",
   "name": "python2"
  },
  "language_info": {
   "codemirror_mode": {
    "name": "ipython",
    "version": 2
   },
   "file_extension": ".py",
   "mimetype": "text/x-python",
   "name": "python",
   "nbconvert_exporter": "python",
   "pygments_lexer": "ipython2",
   "version": "2.7.6"
  }
 },
 "nbformat": 4,
 "nbformat_minor": 0
}
